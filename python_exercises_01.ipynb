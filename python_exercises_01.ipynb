{
  "nbformat": 4,
  "nbformat_minor": 0,
  "metadata": {
    "colab": {
      "name": "Cópia de python_exercises_01.ipynb",
      "provenance": [],
      "include_colab_link": true
    },
    "kernelspec": {
      "name": "python3",
      "display_name": "Python 3"
    }
  },
  "cells": [
    {
      "cell_type": "markdown",
      "metadata": {
        "id": "view-in-github",
        "colab_type": "text"
      },
      "source": [
        "<a href=\"https://colab.research.google.com/github/CaioASilvestre/br-python-condensed/blob/main/python_exercises_01.ipynb\" target=\"_parent\"><img src=\"https://colab.research.google.com/assets/colab-badge.svg\" alt=\"Open In Colab\"/></a>"
      ]
    },
    {
      "cell_type": "markdown",
      "metadata": {
        "id": "8YqaSZgXYJ5g"
      },
      "source": [
        "![](https://i.imgur.com/YX6UATs.png)\n"
      ]
    },
    {
      "cell_type": "markdown",
      "metadata": {
        "id": "hhUVzDipaGb9"
      },
      "source": [
        "### **Exercícios de Python - 1** \n",
        "\n",
        "\n",
        "\n"
      ]
    },
    {
      "cell_type": "markdown",
      "metadata": {
        "id": "qMGp-h8OaGqr"
      },
      "source": [
        "1 - Faça um programa, com uma função que necessite de três argumentos, e que forneça a soma desses três argumentos."
      ]
    },
    {
      "cell_type": "code",
      "metadata": {
        "id": "kTg-D89NdCld",
        "colab": {
          "base_uri": "https://localhost:8080/"
        },
        "outputId": "dd79fcff-83ae-4e65-c24f-022ccbfb0f00"
      },
      "source": [
        "def soma(a,b,c):\r\n",
        "  '''\r\n",
        "  (num,num,num) = num\r\n",
        "  soma(1,2,3)\r\n",
        "  6\r\n",
        "  '''\r\n",
        "  return a+b+c\r\n",
        "soma(1,2,3)"
      ],
      "execution_count": null,
      "outputs": [
        {
          "output_type": "execute_result",
          "data": {
            "text/plain": [
              "6"
            ]
          },
          "metadata": {
            "tags": []
          },
          "execution_count": 2
        }
      ]
    },
    {
      "cell_type": "markdown",
      "metadata": {
        "id": "KdLXZftIaG60"
      },
      "source": [
        "2 - Faça um Programa que peça a temperatura em graus Celsius, transforme e mostre em graus Fahrenheit. \\\n",
        "*Dica: procure a fórmula para essa conversão na internet*"
      ]
    },
    {
      "cell_type": "code",
      "metadata": {
        "id": "MNINJ32eU45M",
        "colab": {
          "base_uri": "https://localhost:8080/"
        },
        "outputId": "e3d5fe62-6114-4b94-8ac5-1a5375b13786"
      },
      "source": [
        "def cel2fahr(t_c):\r\n",
        "  '''\r\n",
        "  (num) = num\r\n",
        "  cel2fahr(0)\r\n",
        "  32\r\n",
        "  cel2fahr(20)\r\n",
        "  68\r\n",
        "  '''\r\n",
        "  return 1.8*t_c + 32\r\n",
        "print(cel2fahr(0))\r\n",
        "print(cel2fahr(20))"
      ],
      "execution_count": null,
      "outputs": [
        {
          "output_type": "stream",
          "text": [
            "32.0\n",
            "68.0\n"
          ],
          "name": "stdout"
        }
      ]
    },
    {
      "cell_type": "markdown",
      "metadata": {
        "id": "4OETBVgmaGzX"
      },
      "source": [
        "3 - Faça um Programa que peça um número inteiro e determine se ele é par ou impar. Dica: utilize o operador módulo (resto da divisão)."
      ]
    },
    {
      "cell_type": "code",
      "metadata": {
        "id": "WbzCimFZVSr1",
        "colab": {
          "base_uri": "https://localhost:8080/"
        },
        "outputId": "46eca489-b01f-475c-867f-96458552bf5c"
      },
      "source": [
        "def is_even(n):\r\n",
        "  '''\r\n",
        "  (num) = str\r\n",
        "  is_even(2)\r\n",
        "  Par\r\n",
        "  is_even(7)\r\n",
        "  Impar\r\n",
        "  \r\n",
        "  resto = n%2;\r\n",
        "  if resto == 1:\r\n",
        "    return print('Impar')\r\n",
        "  elif resto ==0:\r\n",
        "    return print('Par')\r\n",
        "  else:\r\n",
        "    return print('é um inteiro?')\r\n",
        "  '''\r\n",
        "  resto = n%2;\r\n",
        "  print('Impar') if resto == 1 else print('Par') if resto == 0 else print('é um inteiro?') \r\n",
        "\r\n",
        "is_even(2)\r\n",
        "is_even(7)"
      ],
      "execution_count": null,
      "outputs": [
        {
          "output_type": "stream",
          "text": [
            "Par\n",
            "Impar\n"
          ],
          "name": "stdout"
        }
      ]
    },
    {
      "cell_type": "markdown",
      "metadata": {
        "id": "7zPJ8sgPaGw0"
      },
      "source": [
        "4 - Faça um programa que peça o tamanho de um arquivo para download (em MB) e a velocidade de um link de Internet (em Mbps), calcule e informe o tempo aproximado de download do arquivo usando este link (em minutos)."
      ]
    },
    {
      "cell_type": "code",
      "metadata": {
        "id": "l4qtSxU7XquB",
        "colab": {
          "base_uri": "https://localhost:8080/"
        },
        "outputId": "006c5400-4ad9-458b-f7ef-dbfc9b0e51d2"
      },
      "source": [
        "def tempo_down(tam,vel):\r\n",
        "  '''\r\n",
        "  (num Mb, num Mbps) = num min\r\n",
        "  tempo_down(60,1) \r\n",
        "  1\r\n",
        "  tempo_down(30,2) \r\n",
        "  0.25\r\n",
        "  '''\r\n",
        "  return (tam/vel)/60\r\n",
        "print(tempo_down(60,1))\r\n",
        "print(tempo_down(30,2))"
      ],
      "execution_count": null,
      "outputs": [
        {
          "output_type": "stream",
          "text": [
            "1.0\n",
            "0.25\n"
          ],
          "name": "stdout"
        }
      ]
    },
    {
      "cell_type": "markdown",
      "metadata": {
        "id": "0tkhm6EUaG1u"
      },
      "source": [
        "5 - Faça um programa para a leitura de duas notas parciais de um aluno. O programa deve calcular a média alcançada por aluno e apresentar:\n",
        "- A mensagem \"Aprovado\", se a média alcançada for maior ou igual a sete;\n",
        "- A mensagem \"Reprovado\", se a média for menor do que sete;\n",
        "- A mensagem \"Aprovado com Distinção\", se a média for igual a dez."
      ]
    },
    {
      "cell_type": "code",
      "metadata": {
        "id": "990mQ6UhdwKl",
        "colab": {
          "base_uri": "https://localhost:8080/"
        },
        "outputId": "25a56503-a266-496b-b03e-3d5759128dfc"
      },
      "source": [
        "def apv(n1,n2):\r\n",
        "  '''\r\n",
        "  (num,num) = str\r\n",
        "  apv(10,10)\r\n",
        "  \"Aprovado com Distinção\"\r\n",
        "  apv(10,1)\r\n",
        "  \"Reprovado\"\r\n",
        "  \r\n",
        "  media = (n1+n2)/2\r\n",
        "  if media == 10:\r\n",
        "    return print(\"Aprovado com Distinção\")\r\n",
        "  elif media >=7 and media < 10:\r\n",
        "    return print(\"Aprovado\")\r\n",
        "  elif media >=0:\r\n",
        "    return print(\"Reprovado\")\r\n",
        "  else:\r\n",
        "    return print(\"Media nao esta [0,10]\")\r\n",
        "  '''\r\n",
        "  media = (n1+n2)/2\r\n",
        "  print(\"Aprovado com Distinção\") if media == 10 else print(\"Aprovado\") if (media >=7 and media < 10) else print(\"Reprovado\") if media >=0 else print(\"Media nao esta [0,10]\")\r\n",
        "apv(10,10)\r\n",
        "apv(10,1)"
      ],
      "execution_count": null,
      "outputs": [
        {
          "output_type": "stream",
          "text": [
            "Aprovado com Distinção\n",
            "Reprovado\n"
          ],
          "name": "stdout"
        }
      ]
    },
    {
      "cell_type": "markdown",
      "metadata": {
        "id": "Lm1tOKThnU42"
      },
      "source": [
        "Exercícios adaptados de Python Brasil"
      ]
    }
  ]
}