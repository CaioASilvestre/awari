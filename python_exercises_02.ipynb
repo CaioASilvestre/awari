{
  "nbformat": 4,
  "nbformat_minor": 0,
  "metadata": {
    "colab": {
      "name": "Cópia de Copy of python_exercises_02.ipynb",
      "provenance": [],
      "include_colab_link": true
    },
    "kernelspec": {
      "name": "python3",
      "display_name": "Python 3"
    }
  },
  "cells": [
    {
      "cell_type": "markdown",
      "metadata": {
        "id": "view-in-github",
        "colab_type": "text"
      },
      "source": [
        "<a href=\"https://colab.research.google.com/github/CaioASilvestre/br-python-condensed/blob/main/python_exercises_02.ipynb\" target=\"_parent\"><img src=\"https://colab.research.google.com/assets/colab-badge.svg\" alt=\"Open In Colab\"/></a>"
      ]
    },
    {
      "cell_type": "markdown",
      "metadata": {
        "id": "8YqaSZgXYJ5g"
      },
      "source": [
        "![](https://i.imgur.com/YX6UATs.png)\n"
      ]
    },
    {
      "cell_type": "markdown",
      "metadata": {
        "id": "hhUVzDipaGb9"
      },
      "source": [
        "### **Exercícios de Python - 2** \n",
        "\n",
        "\n",
        "\n"
      ]
    },
    {
      "cell_type": "markdown",
      "metadata": {
        "id": "c62cM2VlKFqN"
      },
      "source": [
        "1 - Faça um programa que leia um nome de usuário e a sua senha e não aceite a senha igual ao nome do usuário, mostrando uma mensagem de erro."
      ]
    },
    {
      "cell_type": "code",
      "metadata": {
        "id": "A3ajzaOSq69B",
        "colab": {
          "base_uri": "https://localhost:8080/"
        },
        "outputId": "e0672f22-f52b-4d08-de77-3841dad69646"
      },
      "source": [
        "def cheque_senha():\r\n",
        "  '''\r\n",
        "  (str,str) = str\r\n",
        "  cheque_senha(admin,admin)\r\n",
        "  Senha deve ser diferente do usuario\r\n",
        "  cheque_senha(admin,admin1)\r\n",
        "  Senha ok\r\n",
        "  '''\r\n",
        "  usr = input('Qual o usuario?')\r\n",
        "  snh = input('Qual a senha?')\r\n",
        "  while usr == snh:\r\n",
        "    print('Senha deve ser diferente do usuario')\r\n",
        "    snh = input('Digite nova senha:')\r\n",
        "  return print(\"Senha ok\")\r\n",
        "cheque_senha()"
      ],
      "execution_count": null,
      "outputs": [
        {
          "output_type": "stream",
          "text": [
            "Qual o usuario?admin\n",
            "Qual a senha?admin\n",
            "Senha deve ser diferente do usuario\n",
            "Digite nova senha:admin\n",
            "Senha deve ser diferente do usuario\n",
            "Digite nova senha:ads\n",
            "Senha ok\n"
          ],
          "name": "stdout"
        }
      ]
    },
    {
      "cell_type": "markdown",
      "metadata": {
        "id": "qMGp-h8OaGqr"
      },
      "source": [
        "2 - Utilizando listas faça um programa que faça 5 perguntas para uma pessoa sobre um crime. As perguntas são:\n",
        "- \"Telefonou para a vítima?\"\n",
        "- \"Esteve no local do crime?\"\n",
        "- \"Mora perto da vítima?\"\n",
        "- \"Devia para a vítima?\"\n",
        "- \"Já trabalhou com a vítima?\" \\\n",
        "O programa deve no final emitir uma classificação sobre a participação da pessoa no crime. Se a pessoa responder positivamente a 2 questões ela deve ser classificada como \"Suspeita\", entre 3 e 4 como \"Cúmplice\" e 5 como \"Assassino\". Caso contrário, ele será classificado como \"Inocente\"."
      ]
    },
    {
      "cell_type": "code",
      "metadata": {
        "id": "kTg-D89NdCld",
        "outputId": "96254d43-fdb0-4d24-b65e-079f16759560",
        "colab": {
          "base_uri": "https://localhost:8080/"
        }
      },
      "source": [
        "def questionario():\r\n",
        "  '''\r\n",
        "  1,1,1,1,1 -> Assassino\r\n",
        "  '''\r\n",
        "  perguntas = [\"Telefonou para a vítima? Sim-1 Não-0\",\r\n",
        "               \"Esteve no local do crime? Sim-1 Não-0\",\r\n",
        "               \"Mora perto da vítima? Sim-1 Não-0\",\r\n",
        "               \"Devia para a vítima? Sim-1 Não-0\",\r\n",
        "               \"Já trabalhou com a vítima? Sim-1 Não-0\"]\r\n",
        "  soma = 0\r\n",
        "  for i in perguntas:\r\n",
        "    print(i)\r\n",
        "    soma = float(input(\"0 ou 1\")) + soma\r\n",
        "  if soma == 5:\r\n",
        "    print(\"Assassino\")\r\n",
        "  elif soma == 4 or soma == 3:\r\n",
        "    print(\"Cumplice\")\r\n",
        "  elif soma == 2:\r\n",
        "    print(\"Suspeita\")\r\n",
        "  else:\r\n",
        "    print(\"Inocente\")\r\n",
        "\r\n",
        "questionario()\r\n",
        "\r\n"
      ],
      "execution_count": 2,
      "outputs": [
        {
          "output_type": "stream",
          "text": [
            "Telefonou para a vítima? Sim-1 Não-0\n",
            "0 ou 11\n",
            "Esteve no local do crime? Sim-1 Não-0\n",
            "0 ou 11\n",
            "Mora perto da vítima? Sim-1 Não-0\n",
            "0 ou 11\n",
            "Devia para a vítima? Sim-1 Não-0\n",
            "0 ou 11\n",
            "Já trabalhou com a vítima? Sim-1 Não-0\n",
            "0 ou 11\n",
            "Assassino\n"
          ],
          "name": "stdout"
        }
      ]
    },
    {
      "cell_type": "markdown",
      "metadata": {
        "id": "FTK9nE4pdB1D"
      },
      "source": [
        "3 - A lista abaixo possui nomes de alunos de uma classe. Crie um loop que imprima '{nome} é aluno da classe'\n"
      ]
    },
    {
      "cell_type": "code",
      "metadata": {
        "id": "nW4SbDxTmx4t"
      },
      "source": [
        "['Maria','João','Marcelo','Jonas','Laura','Luana']"
      ],
      "execution_count": null,
      "outputs": []
    },
    {
      "cell_type": "code",
      "metadata": {
        "id": "0sRr8MXCpbGP",
        "outputId": "80916153-5e86-4b5c-8871-9140da1c0d2c",
        "colab": {
          "base_uri": "https://localhost:8080/"
        }
      },
      "source": [
        "def al_classes(lista):\r\n",
        "  '''\r\n",
        "  (lista) -> str\r\n",
        "  al_classes(['Maria'])\r\n",
        "  Maria é aluna da classe\r\n",
        "  '''\r\n",
        "  for i in lista:\r\n",
        "    if i[-1] == 'a':\r\n",
        "      print(f\"{i} é aluna da classe\")\r\n",
        "    else:\r\n",
        "      print(f\"{i} é aluno da classe\")\r\n",
        "\r\n",
        "al_classes(['Maria','João','Marcelo','Jonas','Laura','Luana'])"
      ],
      "execution_count": 7,
      "outputs": [
        {
          "output_type": "stream",
          "text": [
            "Maria é aluna da classe\n",
            "João é aluno da classe\n",
            "Marcelo é aluno da classe\n",
            "Jonas é aluno da classe\n",
            "Laura é aluna da classe\n",
            "Luana é aluna da classe\n"
          ],
          "name": "stdout"
        }
      ]
    },
    {
      "cell_type": "markdown",
      "metadata": {
        "id": "_HbJNv8MaG4g"
      },
      "source": [
        "4 - Utilizando-se da mesma lista trabalhada acima e a lista dada abaixo, que contem as idades dos alunos, realize um loop que faça a iteração com as duas listas printando \"{nome} tem {idade} anos\".\n",
        "Dica: utilize *zip*()"
      ]
    },
    {
      "cell_type": "code",
      "metadata": {
        "id": "LJDxmAbJeO9V"
      },
      "source": [
        "lista1 = ['Maria','João','Marcelo','Jonas','Laura','Luana']\r\n",
        "lista2 = [23,34,42,54,26,27]"
      ],
      "execution_count": 4,
      "outputs": []
    },
    {
      "cell_type": "code",
      "metadata": {
        "id": "Kq1Lc7Ukps-V",
        "outputId": "74bb1641-34a9-4557-f7da-f7059453617d",
        "colab": {
          "base_uri": "https://localhost:8080/"
        }
      },
      "source": [
        "def al_idade(lista1,lista2):\r\n",
        "  lista = zip(lista1,lista2)\r\n",
        "  for i in lista:\r\n",
        "    print(f\"{i[0]} tem {i[1]} anos\")\r\n",
        "\r\n",
        "al_idade(lista1,lista2)"
      ],
      "execution_count": 5,
      "outputs": [
        {
          "output_type": "stream",
          "text": [
            "Maria tem 23 anos\n",
            "João tem 34 anos\n",
            "Marcelo tem 42 anos\n",
            "Jonas tem 54 anos\n",
            "Laura tem 26 anos\n",
            "Luana tem 27 anos\n"
          ],
          "name": "stdout"
        }
      ]
    },
    {
      "cell_type": "markdown",
      "metadata": {
        "id": "0tkhm6EUaG1u"
      },
      "source": [
        "5 - Transforme as duas listas anteriores em um dicionário cuja chave é o nome e o valor é a idade."
      ]
    },
    {
      "cell_type": "code",
      "metadata": {
        "id": "MNINJ32eU45M",
        "outputId": "247225eb-adce-4aae-c218-851b6be4e684",
        "colab": {
          "base_uri": "https://localhost:8080/"
        }
      },
      "source": [
        "def criar_dict(lista1,lista2):\r\n",
        "  lista = zip(lista1,lista2)\r\n",
        "  dicionario = {}\r\n",
        "  for i in lista:\r\n",
        "    dicionario[i[0]] = i[1]\r\n",
        "  return dicionario\r\n",
        "criar_dict(lista1,lista2)"
      ],
      "execution_count": 6,
      "outputs": [
        {
          "output_type": "execute_result",
          "data": {
            "text/plain": [
              "{'Jonas': 54, 'João': 34, 'Laura': 26, 'Luana': 27, 'Marcelo': 42, 'Maria': 23}"
            ]
          },
          "metadata": {
            "tags": []
          },
          "execution_count": 6
        }
      ]
    },
    {
      "cell_type": "markdown",
      "metadata": {
        "id": "Lm1tOKThnU42"
      },
      "source": [
        "Exercícios adaptados de Python Brasil"
      ]
    }
  ]
}