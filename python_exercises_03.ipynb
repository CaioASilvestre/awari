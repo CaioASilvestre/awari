{
  "nbformat": 4,
  "nbformat_minor": 0,
  "metadata": {
    "colab": {
      "name": "Cópia de Cópia de python_exercises_03.ipynb",
      "provenance": [],
      "collapsed_sections": [],
      "include_colab_link": true
    },
    "kernelspec": {
      "name": "python3",
      "display_name": "Python 3"
    }
  },
  "cells": [
    {
      "cell_type": "markdown",
      "metadata": {
        "id": "view-in-github",
        "colab_type": "text"
      },
      "source": [
        "<a href=\"https://colab.research.google.com/github/CaioASilvestre/br-python-condensed/blob/main/python_exercises_03.ipynb\" target=\"_parent\"><img src=\"https://colab.research.google.com/assets/colab-badge.svg\" alt=\"Open In Colab\"/></a>"
      ]
    },
    {
      "cell_type": "markdown",
      "metadata": {
        "id": "8YqaSZgXYJ5g"
      },
      "source": [
        "![](https://i.imgur.com/YX6UATs.png)\n"
      ]
    },
    {
      "cell_type": "markdown",
      "metadata": {
        "id": "hhUVzDipaGb9"
      },
      "source": [
        "### **Exercícios de Python - 3** \n",
        "\n",
        "\n",
        "\n"
      ]
    },
    {
      "cell_type": "markdown",
      "metadata": {
        "id": "7O6AZt8-aGlr"
      },
      "source": [
        "1 - Classe Bola:\\\n",
        "Crie uma classe que modele uma bola:\n",
        "\n",
        "Atributos: Cor, material\\\n",
        "Métodos: trocaCor "
      ]
    },
    {
      "cell_type": "code",
      "metadata": {
        "id": "ibipMzmZcfIF"
      },
      "source": [
        "class Bola():\r\n",
        "  def __init__(self,cor,material):\r\n",
        "    self.cor = cor\r\n",
        "    self.material = material\r\n",
        "\r\n",
        "  def msg_bola(self):\r\n",
        "    print(f\"Bola {self.cor} feita de {self.material}\")\r\n",
        "\r\n",
        "  def trocaCor(self,novaCor):\r\n",
        "    self.cor = novaCor\r\n",
        "    self.msg_bola()\r\n",
        "  "
      ],
      "execution_count": null,
      "outputs": []
    },
    {
      "cell_type": "code",
      "metadata": {
        "id": "ghwbmz1GB_LR"
      },
      "source": [
        "bola_azul = Bola(\"Azul\",\"Borracha\")"
      ],
      "execution_count": null,
      "outputs": []
    },
    {
      "cell_type": "code",
      "metadata": {
        "colab": {
          "base_uri": "https://localhost:8080/"
        },
        "id": "yqJo-EYCDACS",
        "outputId": "40796169-c8a5-4040-b592-c0fbedd0754c"
      },
      "source": [
        "bola_azul.msg_bola()\r\n",
        "bola_azul.trocaCor(\"Preta\")"
      ],
      "execution_count": null,
      "outputs": [
        {
          "output_type": "stream",
          "text": [
            "Bola Azul feita de Borracha\n",
            "Bola Preta feita de Borracha\n"
          ],
          "name": "stdout"
        }
      ]
    },
    {
      "cell_type": "markdown",
      "metadata": {
        "id": "c62cM2VlKFqN"
      },
      "source": [
        "2 - Classe Quadrado: Crie uma classe que modele um quadrado:\n",
        "\n",
        "Atributos: Tamanho do lado\n",
        "Métodos: Mudar valor do Lado e calcular Área;"
      ]
    },
    {
      "cell_type": "code",
      "metadata": {
        "id": "M_5mNjNbKFMI"
      },
      "source": [
        "class Quadrado():\r\n",
        "  def __init__(self,lado):\r\n",
        "    self.lado = lado\r\n",
        "        \r\n",
        "  def area(self):\r\n",
        "    area = self.lado**2\r\n",
        "    print(f\"O lado tem {self.lado} m e a área {area} m2\")\r\n",
        "  \r\n",
        "  def mudar_lado(self,novo_lado):\r\n",
        "    self.lado = novo_lado\r\n",
        "    self.area()"
      ],
      "execution_count": null,
      "outputs": []
    },
    {
      "cell_type": "code",
      "metadata": {
        "colab": {
          "base_uri": "https://localhost:8080/"
        },
        "id": "NFdkQra5Fapr",
        "outputId": "3e98337c-48fa-4af8-f136-fbe38155ce0d"
      },
      "source": [
        "sq = Quadrado(5)\r\n",
        "sq.area()\r\n",
        "sq.mudar_lado(7)"
      ],
      "execution_count": null,
      "outputs": [
        {
          "output_type": "stream",
          "text": [
            "O lado tem 5 m e a área 25 m2\n",
            "O lado tem 7 m e a área 49 m2\n"
          ],
          "name": "stdout"
        }
      ]
    },
    {
      "cell_type": "markdown",
      "metadata": {
        "id": "qMGp-h8OaGqr"
      },
      "source": [
        "3 - Classe funcionário \\\n",
        "Crie uma classe que crie funcionários de uma empresa.\\\n",
        "Atributos: Nome, Função, Salário. \\\n",
        "Métodos: aumento anual. O aumento anual deve ser de 10%.\\\n",
        "Crie dois objetos e dê um aument de 10% a um deles e um aumento de 20% ao outro."
      ]
    },
    {
      "cell_type": "code",
      "metadata": {
        "id": "3lzz274Thi0Y"
      },
      "source": [
        "class Funcionario():\r\n",
        "  def __init__(self, nome, funcao, salario):\r\n",
        "    self.nome = nome\r\n",
        "    self.funcao = funcao\r\n",
        "    self.salario = salario\r\n",
        "\r\n",
        "  def aumento_anual(self,aumento = 10):\r\n",
        "    self.salario = round(self.salario * ((100 + aumento)/100))\r\n",
        "    print(f\"Aumento de {aumento} %. O novo salario é {self.salario}\")"
      ],
      "execution_count": null,
      "outputs": []
    },
    {
      "cell_type": "code",
      "metadata": {
        "id": "o1V_fjJdgiHR",
        "colab": {
          "base_uri": "https://localhost:8080/"
        },
        "outputId": "7dd20398-e9a5-46a9-e643-a0d1b2fb9211"
      },
      "source": [
        "caio = Funcionario(\"Caio\",\"Gerente\",100)\r\n",
        "augusto = Funcionario(\"Augusto\",\"Gerente\",100)\r\n",
        "\r\n",
        "caio.aumento_anual()\r\n",
        "augusto.aumento_anual(20)"
      ],
      "execution_count": null,
      "outputs": [
        {
          "output_type": "stream",
          "text": [
            "Aumento de 10 %. O novo salario é 110\n",
            "Aumento de 20 %. O novo salario é 120\n"
          ],
          "name": "stdout"
        }
      ]
    },
    {
      "cell_type": "markdown",
      "metadata": {
        "id": "lCMWrvt3P4_x"
      },
      "source": [
        "04 - Utilizando a biblioteca Numpy, obtenha as médias, medianas e desvios padrão de altura, peso e IMC dos membros do dicionário a seguir:\\\n",
        "Trasforme os dicionários em um numpy array e utilize os métodos próprios dessa classe."
      ]
    },
    {
      "cell_type": "code",
      "metadata": {
        "id": "l4qtSxU7XquB"
      },
      "source": [
        "import numpy as np\n",
        "\n",
        "clientes = {'Charlotte': {'altura': 1.56, 'imc': 21, 'peso': 52, 'sexo': 'F'},\n",
        " 'Claudia': {'altura': 1.56, 'imc': 25, 'peso': 62, 'sexo': 'F'},\n",
        " 'Jonas': {'altura': 1.56, 'imc': 21, 'peso': 52, 'sexo': 'M'},\n",
        " 'Martha': {'altura': 1.98, 'imc': 19, 'peso': 76, 'sexo': 'F'},\n",
        " 'Mikkel': {'altura': 1.56, 'imc': 28, 'peso': 67, 'sexo': 'M'},\n",
        " 'Ulrich': {'altura': 1.92, 'imc': 22, 'peso': 80, 'sexo': 'M'}}"
      ],
      "execution_count": null,
      "outputs": []
    },
    {
      "cell_type": "code",
      "metadata": {
        "id": "iQ2AotRGlVhq",
        "colab": {
          "base_uri": "https://localhost:8080/"
        },
        "outputId": "51012084-9b4e-4d6f-e437-b553b88b1052"
      },
      "source": [
        "array_de_peso = np.array([0])\r\n",
        "array_de_alt = np.array([0])\r\n",
        "for i in clientes.keys():\r\n",
        "  peso = clientes[i]['peso']\r\n",
        "  alt = clientes[i]['altura']\r\n",
        "  array_de_peso = np.append(array_de_peso,peso)\r\n",
        "  array_de_alt = np.append(array_de_alt,alt)\r\n",
        "\r\n",
        "array_de_peso = np.delete(array_de_peso,0)\r\n",
        "array_de_alt = np.delete(array_de_alt,0)\r\n",
        "array_de_imcs = np.divide(array_de_peso,(array_de_alt**2))\r\n",
        "\r\n",
        "np.mean(array_de_peso)\r\n",
        "np.mean(array_de_alt)\r\n",
        "np.mean(array_de_imcs)\r\n",
        "np.median(array_de_peso)\r\n",
        "np.median(array_de_alt)\r\n",
        "np.median(array_de_imcs)\r\n",
        "np.std(array_de_peso)\r\n",
        "np.std(array_de_alt)\r\n",
        "np.std(array_de_imcs)\r\n",
        "\r\n",
        "#list(clientes.items())"
      ],
      "execution_count": null,
      "outputs": [
        {
          "output_type": "execute_result",
          "data": {
            "text/plain": [
              "2.784383408990778"
            ]
          },
          "metadata": {
            "tags": []
          },
          "execution_count": 44
        }
      ]
    },
    {
      "cell_type": "markdown",
      "metadata": {
        "id": "1a_TuuI6QDWa"
      },
      "source": [
        "05 - Realize o mesmo procedimento com a biblioteca Statistics\n"
      ]
    },
    {
      "cell_type": "code",
      "metadata": {
        "id": "y64mwLBVhN1L"
      },
      "source": [
        ""
      ],
      "execution_count": null,
      "outputs": []
    },
    {
      "cell_type": "markdown",
      "metadata": {
        "id": "Lm1tOKThnU42"
      },
      "source": [
        "Exercícios adaptados de Python Brasil"
      ]
    }
  ]
}